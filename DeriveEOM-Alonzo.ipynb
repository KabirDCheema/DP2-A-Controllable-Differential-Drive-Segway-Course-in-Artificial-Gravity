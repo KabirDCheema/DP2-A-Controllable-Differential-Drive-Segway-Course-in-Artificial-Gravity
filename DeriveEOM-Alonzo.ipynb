{
 "cells": [
  {
   "cell_type": "markdown",
   "id": "occasional-george",
   "metadata": {},
   "source": [
    "# Equations of motion for segbot\n",
    "\n",
    "This notebook makes use of [SymPy](https://docs.sympy.org/), which is a Python library for symbolic mathematics."
   ]
  },
  {
   "cell_type": "code",
   "execution_count": 42,
   "id": "sitting-discount",
   "metadata": {},
   "outputs": [],
   "source": [
    "import sympy as sym\n",
    "import numpy as np\n",
    "from scipy import signal\n",
    "\n",
    "from sympy.physics import mechanics\n",
    "mechanics.init_vprinting()"
   ]
  },
  {
   "cell_type": "markdown",
   "id": "still-eclipse",
   "metadata": {},
   "source": [
    "Define physical constants, consistent with the URDF file:"
   ]
  },
  {
   "cell_type": "code",
   "execution_count": 2,
   "id": "native-parts",
   "metadata": {},
   "outputs": [],
   "source": [
    "# Dimensions of chassis\n",
    "dx = 0.4\n",
    "dy = 0.6\n",
    "dz = 0.8\n",
    "\n",
    "# Distance between axle and COM of chassis\n",
    "h = 0.3\n",
    "\n",
    "# Half-distance between wheels\n",
    "a = 0.7 / 2\n",
    "\n",
    "# Mass of chassis\n",
    "mb = 12.\n",
    "\n",
    "# MOI of chassis\n",
    "Jbx = (mb / 12) * (dy**2 + dz**2)\n",
    "Jby = (mb / 12) * (dx**2 + dz**2)\n",
    "Jbz = (mb / 12) * (dx**2 + dy**2)\n",
    "\n",
    "# Radius of each wheel\n",
    "r = 0.325\n",
    "\n",
    "# Width of each wheel\n",
    "hw = 0.075\n",
    "\n",
    "# Mass of each wheel\n",
    "mw = 1.2\n",
    "\n",
    "# MOI of each wheel\n",
    "Jw = (mw / 2) * r**2\n",
    "Jwt = (mw / 12) * (3 * r**2 + hw**2)\n",
    "\n",
    "# Total mass\n",
    "m = mb + 2 * mw\n",
    "\n",
    "# Total MOI\n",
    "Jx = Jbx + 2 * Jwt\n",
    "Jy = Jby\n",
    "Jz = Jbz + 2 * Jwt\n",
    "\n",
    "# Station parameters\n",
    "station_velocity = -0.5 # <-- FIXME (change the velocity to change gravity)\n",
    "station_radius = 20.    # <-- radius in meters of inside surface of station\n",
    "\n",
    "# Acceleration of artifical gravity\n",
    "g = station_velocity**2 * station_radius"
   ]
  },
  {
   "cell_type": "markdown",
   "id": "according-boost",
   "metadata": {},
   "source": [
    "Convert all physical constants to rational numbers:"
   ]
  },
  {
   "cell_type": "code",
   "execution_count": 3,
   "id": "environmental-mouth",
   "metadata": {},
   "outputs": [],
   "source": [
    "# Dimensions\n",
    "h = sym.nsimplify(h)\n",
    "a = sym.nsimplify(a)\n",
    "r = sym.nsimplify(r)\n",
    "\n",
    "# Masses\n",
    "mb = sym.nsimplify(mb)\n",
    "mw = sym.nsimplify(mw)\n",
    "m = sym.nsimplify(m)\n",
    "\n",
    "# MOIs\n",
    "Jx = sym.nsimplify(Jx)\n",
    "Jy = sym.nsimplify(Jy)\n",
    "Jz = sym.nsimplify(Jz)\n",
    "Jw = sym.nsimplify(Jw)\n",
    "Jwt = sym.nsimplify(Jwt)\n",
    "\n",
    "# Gravity\n",
    "g = sym.nsimplify(g)"
   ]
  },
  {
   "cell_type": "markdown",
   "id": "critical-trauma",
   "metadata": {},
   "source": [
    "Define variables (with a flag to indicate they are all real numbers — this helps simplify):"
   ]
  },
  {
   "cell_type": "code",
   "execution_count": 4,
   "id": "single-bidding",
   "metadata": {},
   "outputs": [],
   "source": [
    "(e_l,\n",
    " e_h,\n",
    " v,\n",
    " w,\n",
    " theta,\n",
    " thetadot,\n",
    " tau_R,\n",
    " tau_L) = sym.symbols('e_l, e_h, v, w, theta, thetadot, tau_R, tau_L', real=True)"
   ]
  },
  {
   "cell_type": "markdown",
   "id": "foster-marketplace",
   "metadata": {},
   "source": [
    "Compute equations of motion, excluding lateral and heading errors (see [Tuttle, 2014](https://docs.lib.purdue.edu/cgi/viewcontent.cgi?article=1415&context=open_access_theses)):"
   ]
  },
  {
   "cell_type": "code",
   "execution_count": 5,
   "id": "religious-fountain",
   "metadata": {},
   "outputs": [],
   "source": [
    "M = sym.Matrix([[m + 2 * Jw / r**2, 0, mb * h * sym.cos(theta)],\n",
    "                [0, (Jx + mb * h**2) * sym.sin(theta)**2 + Jz * sym.cos(theta)**2 + (2 * Jw * a**2 / r**2) + 2 * mw * a**2, 0],\n",
    "                [mb * h * sym.cos(theta), 0, Jy * mb * h**2]])\n",
    "N = sym.Matrix([[mb * h * (w**2 + thetadot**2) * sym.sin(theta)],\n",
    "                [-2 * (Jx - Jz + m * h**2) * sym.cos(theta) * sym.sin(theta) * w * thetadot - mb * h * sym.sin(theta) * v * w],\n",
    "                [(Jx - Jz + mb * h**2) * sym.cos(theta) * sym.sin(theta) * w**2 + mb * g * h * sym.sin(theta)]])\n",
    "R = sym.Matrix([[1 / r, 1 / r],\n",
    "                [-a / r, a / r],\n",
    "                [-1, -1]])\n",
    "f = sym.simplify(M.inv() * (N + R * sym.Matrix([[tau_L], [tau_R]])))"
   ]
  },
  {
   "cell_type": "code",
   "execution_count": 6,
   "id": "chief-guatemala",
   "metadata": {},
   "outputs": [
    {
     "data": {
      "text/latex": [
       "$\\displaystyle \\left[\\begin{matrix}\\frac{78}{5} & 0 & \\frac{18 \\cos{\\left(\\theta \\right)}}{5}\\\\0 & \\frac{4289 \\sin^{2}{\\left(\\theta \\right)}}{2000} + \\frac{1169 \\cos^{2}{\\left(\\theta \\right)}}{2000} + \\frac{441}{1000} & 0\\\\\\frac{18 \\cos{\\left(\\theta \\right)}}{5} & 0 & \\frac{108}{125}\\end{matrix}\\right]$"
      ],
      "text/plain": [
       "Matrix([\n",
       "[           78/5,                                                            0, 18*cos(theta)/5],\n",
       "[              0, 4289*sin(theta)**2/2000 + 1169*cos(theta)**2/2000 + 441/1000,               0],\n",
       "[18*cos(theta)/5,                                                            0,         108/125]])"
      ]
     },
     "execution_count": 6,
     "metadata": {},
     "output_type": "execute_result"
    }
   ],
   "source": [
    "M"
   ]
  },
  {
   "cell_type": "code",
   "execution_count": 7,
   "id": "former-accordance",
   "metadata": {},
   "outputs": [
    {
     "data": {
      "text/latex": [
       "$\\displaystyle \\left[\\begin{matrix}\\left(\\frac{18 \\dot{\\theta}^{2}}{5} + \\frac{18 w^{2}}{5}\\right) \\sin{\\left(\\theta \\right)}\\\\- \\frac{444 \\dot{\\theta} w \\sin{\\left(\\theta \\right)} \\cos{\\left(\\theta \\right)}}{125} - \\frac{18 v w \\sin{\\left(\\theta \\right)}}{5}\\\\\\frac{39 w^{2} \\sin{\\left(\\theta \\right)} \\cos{\\left(\\theta \\right)}}{25} + 18 \\sin{\\left(\\theta \\right)}\\end{matrix}\\right]$"
      ],
      "text/plain": [
       "Matrix([\n",
       "[                      (18*thetadot**2/5 + 18*w**2/5)*sin(theta)],\n",
       "[-444*thetadot*w*sin(theta)*cos(theta)/125 - 18*v*w*sin(theta)/5],\n",
       "[               39*w**2*sin(theta)*cos(theta)/25 + 18*sin(theta)]])"
      ]
     },
     "execution_count": 7,
     "metadata": {},
     "output_type": "execute_result"
    }
   ],
   "source": [
    "N"
   ]
  },
  {
   "cell_type": "code",
   "execution_count": 8,
   "id": "liquid-algeria",
   "metadata": {},
   "outputs": [
    {
     "data": {
      "text/latex": [
       "$\\displaystyle \\left[\\begin{matrix}\\frac{40}{13} & \\frac{40}{13}\\\\- \\frac{14}{13} & \\frac{14}{13}\\\\-1 & -1\\end{matrix}\\right]$"
      ],
      "text/plain": [
       "Matrix([\n",
       "[ 40/13, 40/13],\n",
       "[-14/13, 14/13],\n",
       "[    -1,    -1]])"
      ]
     },
     "execution_count": 8,
     "metadata": {},
     "output_type": "execute_result"
    }
   ],
   "source": [
    "R"
   ]
  },
  {
   "cell_type": "markdown",
   "id": "offensive-example",
   "metadata": {},
   "source": [
    "Compute full equations of motion:"
   ]
  },
  {
   "cell_type": "code",
   "execution_count": 9,
   "id": "recreational-termination",
   "metadata": {},
   "outputs": [],
   "source": [
    "M = sym.Matrix([[v * sym.sin(e_h)],\n",
    "                [w],\n",
    "                [f]])"
   ]
  },
  {
   "cell_type": "markdown",
   "id": "korean-animal",
   "metadata": {},
   "source": [
    "Display the vector-valued function $f$ for which the equations of motion can be written as\n",
    "\n",
    "$$\\begin{bmatrix} \\dot{e}_\\text{lateral} \\\\ \\dot{e}_\\text{heading} \\\\ \\dot{v} \\\\ \\dot{w} \\\\ \\ddot{\\theta} \\end{bmatrix} = f(e_\\text{lateral}, e_\\text{heading}, v, w, \\theta, \\dot{\\theta}, \\tau_R, \\tau_L)$$"
   ]
  },
  {
   "cell_type": "code",
   "execution_count": 10,
   "id": "declared-lottery",
   "metadata": {},
   "outputs": [
    {
     "data": {
      "text/latex": [
       "$\\displaystyle \\left[\\begin{matrix}v \\sin{\\left(e_{h} \\right)}\\\\w\\\\- \\frac{1200 \\tau_{L} + 1200 \\tau_{R} + 1404 \\left(\\dot{\\theta}^{2} + w^{2}\\right) \\sin{\\left(\\theta \\right)} + \\frac{65 \\cdot \\left(50 \\tau_{L} + 50 \\tau_{R} - 39 w^{2} \\sin{\\left(2 \\theta \\right)} - 900 \\sin{\\left(\\theta \\right)}\\right) \\cos{\\left(\\theta \\right)}}{2}}{5850 \\cos^{2}{\\left(\\theta \\right)} - 6084}\\\\\\frac{32 \\left(- 875 \\tau_{L} + 875 \\tau_{R} - 1443 \\dot{\\theta} w \\sin{\\left(2 \\theta \\right)} - 2925 v w \\sin{\\left(\\theta \\right)}\\right)}{13 \\cdot \\left(3120 \\sin^{2}{\\left(\\theta \\right)} + 2051\\right)}\\\\\\frac{5 \\cdot \\left(4225 \\tau_{L} + 4225 \\tau_{R} - \\frac{6591 w^{2} \\sin{\\left(2 \\theta \\right)}}{2} + 30 \\cdot \\left(100 \\tau_{L} + 100 \\tau_{R} + 117 \\left(\\dot{\\theta}^{2} + w^{2}\\right) \\sin{\\left(\\theta \\right)}\\right) \\cos{\\left(\\theta \\right)} - 76050 \\sin{\\left(\\theta \\right)}\\right)}{702 \\cdot \\left(25 \\cos^{2}{\\left(\\theta \\right)} - 26\\right)}\\end{matrix}\\right]$"
      ],
      "text/plain": [
       "Matrix([\n",
       "[                                                                                                                                                                           v*sin(e_h)],\n",
       "[                                                                                                                                                                                    w],\n",
       "[        -(1200*tau_L + 1200*tau_R + 1404*(thetadot**2 + w**2)*sin(theta) + 65*(50*tau_L + 50*tau_R - 39*w**2*sin(2*theta) - 900*sin(theta))*cos(theta)/2)/(5850*cos(theta)**2 - 6084)],\n",
       "[                                                                    32*(-875*tau_L + 875*tau_R - 1443*thetadot*w*sin(2*theta) - 2925*v*w*sin(theta))/(13*(3120*sin(theta)**2 + 2051))],\n",
       "[5*(4225*tau_L + 4225*tau_R - 6591*w**2*sin(2*theta)/2 + 30*(100*tau_L + 100*tau_R + 117*(thetadot**2 + w**2)*sin(theta))*cos(theta) - 76050*sin(theta))/(702*(25*cos(theta)**2 - 26))]])"
      ]
     },
     "execution_count": 10,
     "metadata": {},
     "output_type": "execute_result"
    }
   ],
   "source": [
    "M"
   ]
  },
  {
   "cell_type": "code",
   "execution_count": 11,
   "id": "08e02c82",
   "metadata": {},
   "outputs": [],
   "source": [
    "omega_p = sym.symbols('omega_p')\n",
    "f = f.subs(thetadot, omega_p)\n",
    "M = sym.Matrix([[v * sym.sin(e_h)],\n",
    "                [w],\n",
    "                [omega_p],\n",
    "                [f]])\n",
    "equations_M = M"
   ]
  },
  {
   "cell_type": "code",
   "execution_count": 12,
   "id": "7b24b02c",
   "metadata": {},
   "outputs": [],
   "source": [
    "M = M.subs(w, 0)\n",
    "M = M.subs(omega_p, 0)\n",
    "M = M.subs(e_h, 0)\n",
    "M = M.subs(tau_R, 0)\n",
    "M = M.subs(tau_L, 0)"
   ]
  },
  {
   "cell_type": "code",
   "execution_count": 13,
   "id": "65c94e48",
   "metadata": {},
   "outputs": [
    {
     "data": {
      "text/latex": [
       "$\\displaystyle \\left[\\begin{matrix}0\\\\0\\\\0\\\\\\frac{29250 \\sin{\\left(\\theta \\right)} \\cos{\\left(\\theta \\right)}}{5850 \\cos^{2}{\\left(\\theta \\right)} - 6084}\\\\0\\\\- \\frac{1625 \\sin{\\left(\\theta \\right)}}{3 \\cdot \\left(25 \\cos^{2}{\\left(\\theta \\right)} - 26\\right)}\\end{matrix}\\right]$"
      ],
      "text/plain": [
       "Matrix([\n",
       "[                                                      0],\n",
       "[                                                      0],\n",
       "[                                                      0],\n",
       "[29250*sin(theta)*cos(theta)/(5850*cos(theta)**2 - 6084)],\n",
       "[                                                      0],\n",
       "[           -1625*sin(theta)/(3*(25*cos(theta)**2 - 26))]])"
      ]
     },
     "execution_count": 13,
     "metadata": {},
     "output_type": "execute_result"
    }
   ],
   "source": [
    "y1 = M[3]\n",
    "y2 = M[5]\n",
    "M"
   ]
  },
  {
   "cell_type": "code",
   "execution_count": 14,
   "id": "27bd619f",
   "metadata": {},
   "outputs": [],
   "source": [
    "from numpy import sqrt, arctan\n",
    "th = sym.solve(y1 - y2, theta)"
   ]
  },
  {
   "cell_type": "code",
   "execution_count": 15,
   "id": "ba3d613c",
   "metadata": {},
   "outputs": [
    {
     "data": {
      "text/plain": [
       "[0]"
      ]
     },
     "execution_count": 15,
     "metadata": {},
     "output_type": "execute_result"
    }
   ],
   "source": [
    "th"
   ]
  },
  {
   "cell_type": "code",
   "execution_count": 16,
   "id": "79ffd78e",
   "metadata": {},
   "outputs": [
    {
     "name": "stdout",
     "output_type": "stream",
     "text": [
      "0 Matrix([[0], [0], [0], [0], [0], [0]])\n"
     ]
    }
   ],
   "source": [
    "M = sym.Matrix([[v * sym.sin(e_h)],\n",
    "                [w],\n",
    "                [omega_p],\n",
    "                [f]])\n",
    "M = M.subs(w, 0)\n",
    "M = M.subs(omega_p, 0)\n",
    "M = M.subs(e_h, 0)\n",
    "M = M.subs(tau_R, 0)\n",
    "M = M.subs(tau_L, 0)\n",
    "\n",
    "for i in th:\n",
    "    M = M.subs(theta, i)\n",
    "    print(i, M)\n",
    "    M = sym.Matrix([[v * sym.sin(e_h)],\n",
    "                [w],\n",
    "                [omega_p],\n",
    "                [f]])\n",
    "    M = M.subs(w, 0)\n",
    "    M = M.subs(omega_p, 0)\n",
    "    M = M.subs(e_h, 0)\n",
    "    M = M.subs(tau_R, 0)\n",
    "    M = M.subs(tau_L, 0)"
   ]
  },
  {
   "cell_type": "code",
   "execution_count": 30,
   "id": "533d254a",
   "metadata": {},
   "outputs": [
    {
     "name": "stdout",
     "output_type": "stream",
     "text": [
      "6\n"
     ]
    }
   ],
   "source": [
    "we, omega_pe, e_he, tau_Re, tau_Le, theta_e, ve = 0, 0, 0, 0, 0, 0, 1\n",
    "\n",
    "\n",
    "x = sym.Matrix([e_l, e_h, v, w, theta, omega_p])\n",
    "u = sym.Matrix([tau_R, tau_L])\n",
    "\n",
    "dyn = equations_M.jacobian(x)\n",
    "controls = equations_M.jacobian(u)\n",
    "\n",
    "a = sym.lambdify((e_h, e_l, v, theta, w, tau_R, tau_L, omega_p), dyn)\n",
    "A = np.array(a(e_he, 0, ve, theta_e, we, tau_Re, tau_Le, omega_pe))\n",
    "\n",
    "b = sym.lambdify((e_h, e_l, v, theta, w, tau_R, tau_L, omega_p), controls)\n",
    "B = np.array(b(e_he, 0, ve, theta_e, we, tau_Re, tau_Le, omega_pe))\n",
    "\n",
    "W = np.block([B, A@B, A@A@B, A@A@A@B, A@A@A@A@B, A@A@A@A@A@B])\n",
    "print(np.linalg.matrix_rank(W))"
   ]
  },
  {
   "cell_type": "code",
   "execution_count": 47,
   "id": "ec3e2504",
   "metadata": {},
   "outputs": [
    {
     "data": {
      "text/plain": [
       "array([[  0.        ,   0.        ],\n",
       "       [  0.        ,   0.        ],\n",
       "       [  0.        ,   0.        ],\n",
       "       [ 12.07264957,  12.07264957],\n",
       "       [  1.05014439,  -1.05014439],\n",
       "       [-51.46011396, -51.46011396]])"
      ]
     },
     "execution_count": 47,
     "metadata": {},
     "output_type": "execute_result"
    }
   ],
   "source": [
    "B"
   ]
  },
  {
   "cell_type": "code",
   "execution_count": 40,
   "id": "a827dcef",
   "metadata": {},
   "outputs": [
    {
     "data": {
      "image/png": "[encoded data removed]",
      "text/latex": [
       "$\\displaystyle \\left[\\begin{array}{cccccccccccc}0 & 0 & 0 & 0 & 12.0726495726496 & 12.0726495726496 & -131.268049356787 & 131.268049356787 & 0 & 0 & 0 & 0\\\\0 & 0 & 12.0726495726496 & 12.0726495726496 & -131.268049356787 & 131.268049356787 & 0 & 0 & 0 & 0 & 0 & 0\\\\0 & 0 & -51.460113960114 & -51.460113960114 & 568.828213879408 & -568.828213879408 & 0 & 0 & 0 & 0 & 0 & 0\\\\12.0726495726496 & 12.0726495726496 & -131.268049356787 & 131.268049356787 & 0 & 0 & 0 & 0 & 0 & 0 & 0 & 0\\\\1.05014439485429 & -1.05014439485429 & 0 & 0 & 0 & 0 & 0 & 0 & 0 & 0 & 0 & 0\\\\-51.460113960114 & -51.460113960114 & 568.828213879408 & -568.828213879408 & 0 & 0 & 0 & 0 & 0 & 0 & 0 & 0\\end{array}\\right]$"
      ],
      "text/plain": [
       "⎡       0                  0                  0                  0          12\n",
       "⎢                                                                             \n",
       "⎢       0                  0          12.0726495726496   12.0726495726496   -1\n",
       "⎢                                                                             \n",
       "⎢       0                  0          -51.460113960114   -51.460113960114   56\n",
       "⎢                                                                             \n",
       "⎢12.0726495726496  12.0726495726496   -131.268049356787  131.268049356787     \n",
       "⎢                                                                             \n",
       "⎢1.05014439485429  -1.05014439485429          0                  0            \n",
       "⎢                                                                             \n",
       "⎣-51.460113960114  -51.460113960114   568.828213879408   -568.828213879408    \n",
       "\n",
       ".0726495726496   12.0726495726496   -131.268049356787  131.268049356787  0  0 \n",
       "                                                                              \n",
       "31.268049356787  131.268049356787           0                 0          0  0 \n",
       "                                                                              \n",
       "8.828213879408   -568.828213879408          0                 0          0  0 \n",
       "                                                                              \n",
       "      0                  0                  0                 0          0  0 \n",
       "                                                                              \n",
       "      0                  0                  0                 0          0  0 \n",
       "                                                                              \n",
       "      0                  0                  0                 0          0  0 \n",
       "\n",
       " 0  0⎤\n",
       "     ⎥\n",
       " 0  0⎥\n",
       "     ⎥\n",
       " 0  0⎥\n",
       "     ⎥\n",
       " 0  0⎥\n",
       "     ⎥\n",
       " 0  0⎥\n",
       "     ⎥\n",
       " 0  0⎦"
      ]
     },
     "execution_count": 40,
     "metadata": {},
     "output_type": "execute_result"
    }
   ],
   "source": [
    "W_tex = sym.Matrix(W)\n",
    "W_tex"
   ]
  },
  {
   "cell_type": "code",
   "execution_count": 38,
   "id": "eb276637",
   "metadata": {},
   "outputs": [
    {
     "data": {
      "image/png": "[encoded data removed]",
      "text/latex": [
       "$\\displaystyle \\left[\\begin{matrix}0 & 1.0 & 0 & 0 & 0 & 0\\\\0 & 0 & 0 & 1.0 & 0 & 0\\\\0 & 0 & 0 & 0 & 0 & 1.0\\\\0 & 0 & 0 & 0 & -125.0 & 0\\\\0 & 0 & 0 & 0 & 0 & 0\\\\0 & 0 & 0 & 0 & 541.666666666667 & 0\\end{matrix}\\right]$"
      ],
      "text/plain": [
       "⎡0  1.0  0   0          0           0 ⎤\n",
       "⎢                                     ⎥\n",
       "⎢0   0   0  1.0         0           0 ⎥\n",
       "⎢                                     ⎥\n",
       "⎢0   0   0   0          0          1.0⎥\n",
       "⎢                                     ⎥\n",
       "⎢0   0   0   0        -125.0        0 ⎥\n",
       "⎢                                     ⎥\n",
       "⎢0   0   0   0          0           0 ⎥\n",
       "⎢                                     ⎥\n",
       "⎣0   0   0   0   541.666666666667   0 ⎦"
      ]
     },
     "execution_count": 38,
     "metadata": {},
     "output_type": "execute_result"
    }
   ],
   "source": [
    "A_tex = sym.Matrix(A)\n",
    "A_tex"
   ]
  },
  {
   "cell_type": "code",
   "execution_count": 36,
   "id": "3e28b8fd",
   "metadata": {},
   "outputs": [
    {
     "data": {
      "image/png": "[encoded data removed]",
      "text/latex": [
       "$\\displaystyle \\left[\\begin{matrix}0 & 0\\\\0 & 0\\\\0 & 0\\\\12.0726495726496 & 12.0726495726496\\\\1.05014439485429 & -1.05014439485429\\\\-51.460113960114 & -51.460113960114\\end{matrix}\\right]$"
      ],
      "text/plain": [
       "⎡       0                  0        ⎤\n",
       "⎢                                   ⎥\n",
       "⎢       0                  0        ⎥\n",
       "⎢                                   ⎥\n",
       "⎢       0                  0        ⎥\n",
       "⎢                                   ⎥\n",
       "⎢12.0726495726496  12.0726495726496 ⎥\n",
       "⎢                                   ⎥\n",
       "⎢1.05014439485429  -1.05014439485429⎥\n",
       "⎢                                   ⎥\n",
       "⎣-51.460113960114  -51.460113960114 ⎦"
      ]
     },
     "execution_count": 36,
     "metadata": {},
     "output_type": "execute_result"
    }
   ],
   "source": [
    "B_tex = sym.Matrix(B)\n",
    "B_tex"
   ]
  },
  {
   "cell_type": "code",
   "execution_count": 41,
   "id": "1c1f3670",
   "metadata": {},
   "outputs": [
    {
     "name": "stdout",
     "output_type": "stream",
     "text": [
      "\\left[\\begin{array}{cccccccccccc}0 & 0 & 0 & 0 & 12.0726495726496 & 12.0726495726496 & -131.268049356787 & 131.268049356787 & 0 & 0 & 0 & 0\\\\0 & 0 & 12.0726495726496 & 12.0726495726496 & -131.268049356787 & 131.268049356787 & 0 & 0 & 0 & 0 & 0 & 0\\\\0 & 0 & -51.460113960114 & -51.460113960114 & 568.828213879408 & -568.828213879408 & 0 & 0 & 0 & 0 & 0 & 0\\\\12.0726495726496 & 12.0726495726496 & -131.268049356787 & 131.268049356787 & 0 & 0 & 0 & 0 & 0 & 0 & 0 & 0\\\\1.05014439485429 & -1.05014439485429 & 0 & 0 & 0 & 0 & 0 & 0 & 0 & 0 & 0 & 0\\\\-51.460113960114 & -51.460113960114 & 568.828213879408 & -568.828213879408 & 0 & 0 & 0 & 0 & 0 & 0 & 0 & 0\\end{array}\\right]\n"
     ]
    }
   ],
   "source": [
    "print(f'{mechanics.mlatex(W_tex)}')"
   ]
  },
  {
   "cell_type": "markdown",
   "id": "ranging-permit",
   "metadata": {},
   "source": [
    "Note that one of these ODEs is second-order — you will have to replace this with a set of two first-order ODEs, as usual."
   ]
  },
  {
   "cell_type": "code",
   "execution_count": 43,
   "id": "c63047af",
   "metadata": {},
   "outputs": [],
   "source": [
    "poles = [-1, -2, -3, -4, -5, -6]\n",
    "K_list = signal.place_poles(A, B, poles)"
   ]
  },
  {
   "cell_type": "code",
   "execution_count": 44,
   "id": "edaaeb82",
   "metadata": {},
   "outputs": [
    {
     "data": {
      "text/plain": [
       "array([[  9.80632643,  19.68009126,   2.91028154,  12.32958923,\n",
       "          0.81052894,   2.58376909],\n",
       "       [ -9.40887809, -19.12874974,  -3.11953575, -12.12602643,\n",
       "        -11.29126776,  -2.69713502]])"
      ]
     },
     "execution_count": 44,
     "metadata": {},
     "output_type": "execute_result"
    }
   ],
   "source": [
    "K = K_list.gain_matrix"
   ]
  },
  {
   "cell_type": "code",
   "execution_count": 45,
   "id": "40946cdc",
   "metadata": {},
   "outputs": [
    {
     "data": {
      "text/plain": [
       "array([-5.99999999, -5.        , -4.        , -3.        , -2.        ,\n",
       "       -1.        ])"
      ]
     },
     "execution_count": 45,
     "metadata": {},
     "output_type": "execute_result"
    }
   ],
   "source": [
    "K_list.computed_poles"
   ]
  },
  {
   "cell_type": "code",
   "execution_count": 46,
   "id": "f65ddaa6",
   "metadata": {},
   "outputs": [
    {
     "data": {
      "text/plain": [
       "array([-6., -5., -4., -3., -2., -1.])"
      ]
     },
     "execution_count": 46,
     "metadata": {},
     "output_type": "execute_result"
    }
   ],
   "source": [
    "K_list.requested_poles"
   ]
  },
  {
   "cell_type": "code",
   "execution_count": null,
   "id": "4945b37b",
   "metadata": {},
   "outputs": [],
   "source": []
  }
 ],
 "metadata": {
  "kernelspec": {
   "display_name": "Python 3 (ipykernel)",
   "language": "python",
   "name": "python3"
  },
  "language_info": {
   "codemirror_mode": {
    "name": "ipython",
    "version": 3
   },
   "file_extension": ".py",
   "mimetype": "text/x-python",
   "name": "python",
   "nbconvert_exporter": "python",
   "pygments_lexer": "ipython3",
   "version": "3.11.0"
  },
  "vscode": {
   "interpreter": {
    "hash": "303f78375ed4b5a62636c56b80061a6ba8c69b71d7930c5c5c49744d4ebed978"
   }
  }
 },
 "nbformat": 4,
 "nbformat_minor": 5
}
