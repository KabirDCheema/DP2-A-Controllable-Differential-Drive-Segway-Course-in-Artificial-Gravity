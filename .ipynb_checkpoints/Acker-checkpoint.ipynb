{
 "cells": [
  {
   "cell_type": "markdown",
   "id": "upper-fitness",
   "metadata": {},
   "source": [
    "# Ackermann's method"
   ]
  },
  {
   "cell_type": "markdown",
   "id": "wired-indonesian",
   "metadata": {},
   "source": [
    "Start by importing `numpy` (for matrix manipulation), `scipy.linalg` (for finding eigenvalues), and `scipy.signal` (for eigenvalue placement)."
   ]
  },
  {
   "cell_type": "code",
   "execution_count": 1,
   "id": "ordinary-uruguay",
   "metadata": {},
   "outputs": [],
   "source": [
    "import numpy as np\n",
    "from scipy import linalg\n",
    "from scipy import signal\n",
    "\n",
    "# Suppress the use of scientific notation when printing small numbers\n",
    "np.set_printoptions(suppress=True)"
   ]
  },
  {
   "cell_type": "markdown",
   "id": "executed-trouble",
   "metadata": {},
   "source": [
    "Consider the application of state feedback\n",
    "\n",
    "$$u = -Kx$$\n",
    "\n",
    "to the open-loop system\n",
    "\n",
    "$$\\dot{x} = Ax + Bu$$\n",
    "\n",
    "where\n",
    "\n",
    "$$A = \\begin{bmatrix} -1 & 1 \\\\ 1 & 2 \\end{bmatrix} \\qquad\\qquad B = \\begin{bmatrix} 1 \\\\ 3 \\end{bmatrix}.$$\n",
    "\n",
    "As you know, the function [signal.place_poles](https://docs.scipy.org/doc/scipy/reference/generated/scipy.signal.place_poles.html) will find a choice of gain matrix $K$ that puts the closed-loop eigenvalues anywhere you want (so long as they are not both in the same location and so long as, if they have a non-zero imaginary part, the two eigenvalues are a conjugate pair).\n",
    "\n",
    "In particular, suppose we want to put eigenvalues at $-2$ and $-5$. We would do this:"
   ]
  },
  {
   "cell_type": "code",
   "execution_count": 2,
   "id": "figured-principal",
   "metadata": {},
   "outputs": [
    {
     "name": "stdout",
     "output_type": "stream",
     "text": [
      "[[-7.  5.]]\n"
     ]
    }
   ],
   "source": [
    "# Define A and B\n",
    "A = np.array([[-1., 1.], [1., 2.]])\n",
    "B = np.array([[1.], [3.]])\n",
    "\n",
    "# Do eigenvalue placement\n",
    "fbk = signal.place_poles(A, B, [-2., -5.])\n",
    "\n",
    "# Extract the gain matrix\n",
    "K = fbk.gain_matrix\n",
    "\n",
    "# Display the result\n",
    "print(K)"
   ]
  },
  {
   "cell_type": "markdown",
   "id": "improved-chair",
   "metadata": {},
   "source": [
    "Let's check that it worked:"
   ]
  },
  {
   "cell_type": "code",
   "execution_count": 3,
   "id": "automotive-stanford",
   "metadata": {},
   "outputs": [
    {
     "name": "stdout",
     "output_type": "stream",
     "text": [
      "[-2.+0.j -5.+0.j]\n"
     ]
    }
   ],
   "source": [
    "print(linalg.eigvals(A - B @ K))"
   ]
  },
  {
   "cell_type": "markdown",
   "id": "changing-cross",
   "metadata": {},
   "source": [
    "In this notebook, you will implement a function that does eigenvalue placement yourself. In particular, you will implement **Ackermann's method**. This is not the same method used by `place_poles`.\n",
    "\n",
    "One disadvantage of Ackermann's method is that it only applies to systems with one input (i.e., to systems in which the matrix $B$ has one column) - `place_poles` applies to systems with any number of inputs.\n",
    "\n",
    "One advantage of Ackermann's method is that it allows the placement of more than one eigenvalue at the same location - `place_poles` does not. Another advantage is that implementing Ackermann's method will make clear to you how to decide if a system is **controllable**.\n",
    "\n",
    "Please proceed through the rest of this notebook, filling in the implementation of `acker` in the following cell as you go. We will use the system and eigenvalue locations described above as a running example. Note that, in all of what follows, we will assume $B$ has only one column."
   ]
  },
  {
   "cell_type": "code",
   "execution_count": 35,
   "id": "congressional-significance",
   "metadata": {},
   "outputs": [],
   "source": [
    "#grade (write your code in this cell and DO NOT DELETE OR MODIFY THIS LINE)\n",
    "\n",
    "def acker(A, B, p):\n",
    "    \"\"\"\n",
    "    INPUTS\n",
    "    - A and B are 2d numpy arrays that describe a state-space system\n",
    "    - p is a list of desired eigenvalue locations\n",
    "    OUTPUTS\n",
    "    - K, a 2d numpy array, is a gain matrix that would put closed-loop eigenvalues at p\n",
    "    \n",
    "    We assume that B has only one column (i.e., the system described by A and B\n",
    "    has only one input) and that every complex number in p has a conjugate pair.\n",
    "    \"\"\"\n",
    "    \n",
    "    # Find the coefficients of the characteristic polynomial with roots at p\n",
    "    r = np.poly(p)[1:].real\n",
    "    \n",
    "    # Find the coefficients of the characteristic polynomial of A\n",
    "    a = np.poly(A)[1:].real\n",
    "    \n",
    "    # Find the state space system (Accf, Bccf) that is equivalent to (A, B)\n",
    "    # but that is in controllable canonical form\n",
    "    n = A.shape[0]\n",
    "    Accf = np.block([[-a], [np.eye(len(a)-1), np.zeros((len(a)-1, 1))]])\n",
    "    Bccf = np.block([[1.], [np.zeros((len(a)-1, 1))]])\n",
    "    \n",
    "    # Find state feedback for (Accf, Bccf)\n",
    "    Kccf = (r - a).reshape([1, -1])\n",
    "    \n",
    "    # Find the coordinate transformation between (Accf, Bccf) and (A, B)\n",
    "    W = B\n",
    "    for i in range(1, n):\n",
    "        col = np.linalg.matrix_power(A, i) @ B\n",
    "        W = np.block([W, col])\n",
    "        \n",
    "    Wccf = Bccf\n",
    "    for i in range(1, n):\n",
    "        col = np.linalg.matrix_power(Accf, i) @ Bccf\n",
    "        Wccf = np.block([Wccf, col])\n",
    "    \n",
    "    inverse_of_V = Wccf @ linalg.inv(W)\n",
    "    \n",
    "    # Find and return state feedback for (A, B)\n",
    "    K = Kccf @ inverse_of_V\n",
    "    return K\n",
    "    \n",
    "    # The following line is a placeholder - delete it when you are done implementing acker"
   ]
  },
  {
   "cell_type": "markdown",
   "id": "activated-compact",
   "metadata": {},
   "source": [
    "## Find the characteristic polynomial that has a given set of roots"
   ]
  },
  {
   "cell_type": "markdown",
   "id": "tender-surface",
   "metadata": {},
   "source": [
    "Suppose we want to find the coefficients $r_1$ and $r_2$ for which the polynomial\n",
    "\n",
    "$$s^2 + r_1 s + r_2$$\n",
    "\n",
    "would have roots at $-2$ and $-5$. To find these coefficients by hand, we note that any such polynomial could be factored as\n",
    "\n",
    "$$(s - (-2)) (s - (-5)) = (s + 2) (s + 5).$$\n",
    "\n",
    "Multiplying out, we get\n",
    "\n",
    "$$s^2 + 7 s + 10.$$\n",
    "\n",
    "Equating coefficients with\n",
    "\n",
    "$$s^2 + r_1 s + r_2,$$\n",
    "\n",
    "we see that\n",
    "\n",
    "$$r_1 = 7 \\qquad \\text{and} \\qquad r_2 = 10.$$\n",
    "\n",
    "It is easy to automate this process with [numpy.poly](https://numpy.org/doc/stable/reference/generated/numpy.poly.html). Check it out:"
   ]
  },
  {
   "cell_type": "code",
   "execution_count": 4,
   "id": "wooden-relative",
   "metadata": {},
   "outputs": [
    {
     "data": {
      "text/plain": [
       "array([ 1.,  7., 10.])"
      ]
     },
     "execution_count": 4,
     "metadata": {},
     "output_type": "execute_result"
    }
   ],
   "source": [
    "np.poly([-2., -5.])"
   ]
  },
  {
   "cell_type": "markdown",
   "id": "latin-treaty",
   "metadata": {},
   "source": [
    "Do you see what happened there? The function `np.poly` returned a 1d array with the coefficients of the polynomial that has the given roots. The first element of this array is the leading coefficient of this polynomial — by convention, this coefficient is always $1$. We can extract the rest of the array as follows:"
   ]
  },
  {
   "cell_type": "code",
   "execution_count": 5,
   "id": "arbitrary-helping",
   "metadata": {},
   "outputs": [],
   "source": [
    "r = np.poly([-2., -5.])[1:]"
   ]
  },
  {
   "cell_type": "markdown",
   "id": "instructional-december",
   "metadata": {},
   "source": [
    "The syntax `[1:]` means \"all elements starting at index 1\" (see [docs on numpy indexing](https://numpy.org/doc/stable/user/basics.indexing.html)). Here is the result:"
   ]
  },
  {
   "cell_type": "code",
   "execution_count": 6,
   "id": "confirmed-switzerland",
   "metadata": {},
   "outputs": [
    {
     "data": {
      "text/plain": [
       "array([ 7., 10.])"
      ]
     },
     "execution_count": 6,
     "metadata": {},
     "output_type": "execute_result"
    }
   ],
   "source": [
    "r"
   ]
  },
  {
   "cell_type": "markdown",
   "id": "flush-excess",
   "metadata": {},
   "source": [
    "This approach works fine for complex eigenvalues too, so long as they are in complex conjugate pairs:"
   ]
  },
  {
   "cell_type": "code",
   "execution_count": 7,
   "id": "liable-reverse",
   "metadata": {},
   "outputs": [
    {
     "data": {
      "text/plain": [
       "array([ 1.,  4., 13.])"
      ]
     },
     "execution_count": 7,
     "metadata": {},
     "output_type": "execute_result"
    }
   ],
   "source": [
    "np.poly([-2. + 3.j, -2. - 3.j])"
   ]
  },
  {
   "cell_type": "markdown",
   "id": "partial-front",
   "metadata": {},
   "source": [
    "You have to be careful though — suppose there is just a little bit of numerical imprecision:"
   ]
  },
  {
   "cell_type": "code",
   "execution_count": 8,
   "id": "scheduled-madrid",
   "metadata": {},
   "outputs": [
    {
     "data": {
      "text/plain": [
       "array([ 1.        +0.j        ,  4.        +0.00000001j,\n",
       "       13.00000003+0.00000002j])"
      ]
     },
     "execution_count": 8,
     "metadata": {},
     "output_type": "execute_result"
    }
   ],
   "source": [
    "np.poly([-2. + 3.j, -2. - 3.00000001j])"
   ]
  },
  {
   "cell_type": "markdown",
   "id": "affiliated-substance",
   "metadata": {},
   "source": [
    "Now the coefficients are complex numbers. That's a problem, because no real-valued choice of $K$ will ever be able to produce a characteristic polynomial of $A - BK$ with complex coefficients.\n",
    "\n",
    "To avoid this problem and make our approach more robust to numerical imprecision, we can simply take the real part of the coefficients:"
   ]
  },
  {
   "cell_type": "code",
   "execution_count": 9,
   "id": "anticipated-arkansas",
   "metadata": {},
   "outputs": [
    {
     "data": {
      "text/plain": [
       "array([ 1.        ,  4.        , 13.00000003])"
      ]
     },
     "execution_count": 9,
     "metadata": {},
     "output_type": "execute_result"
    }
   ],
   "source": [
    "np.poly([-2. + 3.j, -2. - 3.00000001j]).real"
   ]
  },
  {
   "cell_type": "markdown",
   "id": "expired-lithuania",
   "metadata": {},
   "source": [
    "This is something we might as well always do, whether or not the eigenvalue locations we want are complex — it will not affect the result for real eigenvalues, in any case."
   ]
  },
  {
   "cell_type": "code",
   "execution_count": 10,
   "id": "mounted-pendant",
   "metadata": {},
   "outputs": [
    {
     "name": "stdout",
     "output_type": "stream",
     "text": [
      "[ 7. 10.]\n"
     ]
    }
   ],
   "source": [
    "r = np.poly([-2., -5.])[1:].real\n",
    "print(r)"
   ]
  },
  {
   "cell_type": "markdown",
   "id": "occupied-foundation",
   "metadata": {},
   "source": [
    "Do the following two things:\n",
    "* Complete HW Question 2 (\"Find the characteristic equation that would have produced a given set of eigenvalues\")\n",
    "* Fill in the part of `acker` that computes the coefficients\n",
    "$$ r = \\begin{bmatrix} r_1 & r_2 & \\dotsm & r_{n-1} & r_n \\end{bmatrix}$$\n",
    "of the polynomial\n",
    "$$ s^n + r_1s^{n-1}+r_2s^{n-2}+\\dotsm+r_{n-1}s+r_n $$\n",
    "that would have the roots that are listed in the argument `p`. Remember that $r$ does *not* include the coefficient on the $s^n$ term, which is always \"1\""
   ]
  },
  {
   "cell_type": "markdown",
   "id": "pending-information",
   "metadata": {},
   "source": [
    "## Find the characteristic polynomial of the open-loop system\n",
    "\n",
    "The characteristic polynomial of the matrix $A$ is\n",
    "\n",
    "$$\n",
    "\\begin{align*}\n",
    "\\det\\left(sI - A\\right)\n",
    "&= \\det\\left(s\\begin{bmatrix} 1 & 0 \\\\ 0 & 1 \\end{bmatrix} - \\begin{bmatrix} -1 & 1 \\\\ 1 & 2 \\end{bmatrix} \\right) \\\\\n",
    "&= \\det\\left( \\begin{bmatrix} s + 1 & -1 \\\\ -1 & s - 2 \\end{bmatrix} \\right) \\\\\n",
    "&= (s+1)(s-2) - (-1)(-1) \\\\\n",
    "&= s^2 - s - 3\n",
    "\\end{align*}\n",
    "$$\n",
    "\n",
    "Again, it is easy to automate this process with [numpy.poly](https://numpy.org/doc/stable/reference/generated/numpy.poly.html). Check it out:"
   ]
  },
  {
   "cell_type": "code",
   "execution_count": 11,
   "id": "built-cancer",
   "metadata": {},
   "outputs": [
    {
     "data": {
      "text/plain": [
       "array([ 1., -1., -3.])"
      ]
     },
     "execution_count": 11,
     "metadata": {},
     "output_type": "execute_result"
    }
   ],
   "source": [
    "np.poly(A)"
   ]
  },
  {
   "cell_type": "markdown",
   "id": "familiar-enclosure",
   "metadata": {},
   "source": [
    "Wow! Apparently, when applied to a matrix (instead of a list), the function `np.poly` returns a 1d array with the coefficients of the characteristic polynomial of that matrix. Just like before, the first element is the leading coefficient (in this case, the coefficient of $s^2$), which is always $1$. We can extract the rest of the array as follows:"
   ]
  },
  {
   "cell_type": "code",
   "execution_count": 12,
   "id": "extended-tennis",
   "metadata": {},
   "outputs": [],
   "source": [
    "a = np.poly(A)[1:]"
   ]
  },
  {
   "cell_type": "markdown",
   "id": "located-wholesale",
   "metadata": {},
   "source": [
    "Here is the result:"
   ]
  },
  {
   "cell_type": "code",
   "execution_count": 13,
   "id": "beautiful-portal",
   "metadata": {},
   "outputs": [
    {
     "data": {
      "text/plain": [
       "array([-1., -3.])"
      ]
     },
     "execution_count": 13,
     "metadata": {},
     "output_type": "execute_result"
    }
   ],
   "source": [
    "a"
   ]
  },
  {
   "cell_type": "markdown",
   "id": "reported-raleigh",
   "metadata": {},
   "source": [
    "Do the following two things:\n",
    "* Complete HW Question 3 (\"Find the characteristic equation of a square matrix\")\n",
    "* Fill in the part of `acker` that computes the coefficients\n",
    "$$ a = \\begin{bmatrix} a_1 & a_2 & \\dotsm & a_{n-1} & a_n \\end{bmatrix}$$\n",
    "of the characteristic polynomial\n",
    "$$ s^n + a_1s^{n-1}+a_2s^{n-2}+\\dotsm+a_{n-1}s+a_n $$\n",
    "of the matrix given by the argument `A`. Remember that $a$ does *not* include the coefficient on the $s^n$ term, which is always \"1\""
   ]
  },
  {
   "cell_type": "markdown",
   "id": "flexible-darkness",
   "metadata": {},
   "source": [
    "### Find an equivalent system in controllable canonical form\n",
    "\n",
    "The open-loop system\n",
    "\n",
    "$$\n",
    "\\dot{z} = A_\\text{ccf}z + B_\\text{ccf} u\n",
    "$$\n",
    "\n",
    "is equivalent to the open-loop system\n",
    "\n",
    "$$\n",
    "\\dot{x} = Ax + Bu\n",
    "$$\n",
    "\n",
    "if\n",
    "\n",
    "$$\n",
    "A_\\text{ccf} =\n",
    "\\begin{bmatrix}\n",
    "-a_{1} & -a_{2} & \\dotsm & -a_{n-1} & -a_{n} \\\\\n",
    "1 & 0 & \\dotsm & 0 & 0 \\\\\n",
    "0 & 1 & \\dotsm & 0 & 0 \\\\\n",
    "\\vdots & \\vdots & \\ddots & \\vdots & \\vdots \\\\\n",
    "0 & 0 & \\dotsm & 1 & 0\n",
    "\\end{bmatrix}\n",
    "\\qquad\\qquad\n",
    "B_\\text{ccf} = \\begin{bmatrix} 1 \\\\ 0 \\\\ 0 \\\\ \\vdots \\\\ 0 \\end{bmatrix}\n",
    "$$\n",
    "\n",
    "where $a_{1}, \\dotsc, a_{n}$ are the coefficients of the characteristic polynomial of $A$. By \"equivalent,\" we mean that $x = Vz$ for some invertible matrix $V$.\n",
    "\n",
    "Since we have already find the coefficients $a_1 = -1$ and $a_2 = -3$ of the characteristic polynomial of the particular matrix we have been using in our running example, we can immediately write\n",
    "\n",
    "$$\n",
    "A_\\text{ccf} = \\begin{bmatrix} 1 & 3 \\\\ 1 & 0 \\end{bmatrix}\n",
    "\\qquad\\text{and}\\qquad\n",
    "B_\\text{ccf} = \\begin{bmatrix} 1 \\\\ 0 \\end{bmatrix}\n",
    "$$\n",
    "\n",
    "for this example. Guess what, it is easy to automate this process with [numpy.block](https://numpy.org/doc/stable/reference/generated/numpy.block.html). This function is exactly the same as `np.array`, but allows you to construct a big matrix from smaller matrices rather than from numbers. Observe:"
   ]
  },
  {
   "cell_type": "code",
   "execution_count": 14,
   "id": "departmental-policy",
   "metadata": {},
   "outputs": [],
   "source": [
    "Accf = np.block([[-a], [np.eye(1), np.zeros((1, 1))]])\n",
    "Bccf = np.block([[1.], [np.zeros((1, 1))]])"
   ]
  },
  {
   "cell_type": "markdown",
   "id": "improved-helena",
   "metadata": {},
   "source": [
    "What did we do here?\n",
    "\n",
    "The matrix $A_\\text{ccf}$ has $-a$ in the top row, the identity matrix (in this case of size $1 \\times 1$, produced by [numpy.eye](https://numpy.org/doc/stable/reference/generated/numpy.eye.html)) in the bottom left, and a column of zeros (in this case of size $1 \\times 1$, produced by [numpy.zeros](https://numpy.org/doc/stable/reference/generated/numpy.zeros.html)) in the bottom right.\n",
    "\n",
    "The matrix $B_\\text{ccf}$ has a \"1\" in the top row, and a column of zeros (in this case of size $1 \\times 1$, produced by [numpy.zeros](https://numpy.org/doc/stable/reference/generated/numpy.zeros.html)) underneath.\n",
    "\n",
    "Here are the results:"
   ]
  },
  {
   "cell_type": "code",
   "execution_count": 15,
   "id": "african-nitrogen",
   "metadata": {},
   "outputs": [
    {
     "data": {
      "text/plain": [
       "array([[1., 3.],\n",
       "       [1., 0.]])"
      ]
     },
     "execution_count": 15,
     "metadata": {},
     "output_type": "execute_result"
    }
   ],
   "source": [
    "Accf"
   ]
  },
  {
   "cell_type": "code",
   "execution_count": 16,
   "id": "continuous-candle",
   "metadata": {},
   "outputs": [
    {
     "data": {
      "text/plain": [
       "array([[1.],\n",
       "       [0.]])"
      ]
     },
     "execution_count": 16,
     "metadata": {},
     "output_type": "execute_result"
    }
   ],
   "source": [
    "Bccf"
   ]
  },
  {
   "cell_type": "markdown",
   "id": "united-damage",
   "metadata": {},
   "source": [
    "Extending this same approach to produce $A_\\text{ccf}$ and $B_\\text{ccf}$ for systems $(A, B)$ with an arbitrary number of states is only a matter of changing the sizes of the identity matrix and of the columns of zeros in the above expressions. Remember that you can find the size of $A$ using `A.shape`.\n",
    "\n",
    "Do the following two things:\n",
    "* Complete HW Question 4 (\"Put a system in controllable canonical form\")\n",
    "* Fill in the part of `acker` that computes `Accf` and `Bccf`"
   ]
  },
  {
   "cell_type": "markdown",
   "id": "occupied-obligation",
   "metadata": {},
   "source": [
    "### Design a controller for the equivalent system\n",
    "\n",
    "If $A_\\text{ccf}$ and $B_\\text{cff}$ are defined as given above, then it is easy to show that the gain matrix\n",
    "\n",
    "$$K_\\text{ccf} = \\begin{bmatrix} r_1 - a_1 & r_2 - a_2 & \\dotsm & r_n - a_n \\end{bmatrix}$$\n",
    "\n",
    "puts the eigenvalues of\n",
    "\n",
    "$$A_\\text{ccf} - B_\\text{ccf} K_\\text{ccf}$$\n",
    "\n",
    "at the roots of\n",
    "\n",
    "$$ s^n + r_1s^{n-1}+r_2s^{n-2}+\\dotsm+r_{n-1}s+r_n. $$\n",
    "\n",
    "Let's compute this gain matrix for our example:"
   ]
  },
  {
   "cell_type": "code",
   "execution_count": 17,
   "id": "committed-tsunami",
   "metadata": {},
   "outputs": [],
   "source": [
    "Kccf = r - a"
   ]
  },
  {
   "cell_type": "markdown",
   "id": "homeless-jersey",
   "metadata": {},
   "source": [
    "Here is the result:"
   ]
  },
  {
   "cell_type": "code",
   "execution_count": 18,
   "id": "developed-editing",
   "metadata": {},
   "outputs": [
    {
     "name": "stdout",
     "output_type": "stream",
     "text": [
      "[ 8. 13.]\n"
     ]
    }
   ],
   "source": [
    "print(Kccf)"
   ]
  },
  {
   "cell_type": "markdown",
   "id": "roman-jefferson",
   "metadata": {},
   "source": [
    "Let's check that it does what it is supposed to do:"
   ]
  },
  {
   "cell_type": "code",
   "execution_count": 19,
   "id": "looking-relations",
   "metadata": {},
   "outputs": [
    {
     "ename": "ValueError",
     "evalue": "matmul: Input operand 1 has a mismatch in its core dimension 0, with gufunc signature (n?,k),(k,m?)->(n?,m?) (size 2 is different from 1)",
     "output_type": "error",
     "traceback": [
      "\u001b[0;31m---------------------------------------------------------------------------\u001b[0m",
      "\u001b[0;31mValueError\u001b[0m                                Traceback (most recent call last)",
      "\u001b[0;32m<ipython-input-19-966276a2e0ee>\u001b[0m in \u001b[0;36m<module>\u001b[0;34m\u001b[0m\n\u001b[0;32m----> 1\u001b[0;31m \u001b[0mprint\u001b[0m\u001b[0;34m(\u001b[0m\u001b[0mlinalg\u001b[0m\u001b[0;34m.\u001b[0m\u001b[0meigvals\u001b[0m\u001b[0;34m(\u001b[0m\u001b[0mAccf\u001b[0m \u001b[0;34m-\u001b[0m \u001b[0mBccf\u001b[0m \u001b[0;34m@\u001b[0m \u001b[0mKccf\u001b[0m\u001b[0;34m)\u001b[0m\u001b[0;34m)\u001b[0m\u001b[0;34m\u001b[0m\u001b[0;34m\u001b[0m\u001b[0m\n\u001b[0m",
      "\u001b[0;31mValueError\u001b[0m: matmul: Input operand 1 has a mismatch in its core dimension 0, with gufunc signature (n?,k),(k,m?)->(n?,m?) (size 2 is different from 1)"
     ]
    }
   ],
   "source": [
    "print(linalg.eigvals(Accf - Bccf @ Kccf))"
   ]
  },
  {
   "cell_type": "markdown",
   "id": "corporate-lucas",
   "metadata": {},
   "source": [
    "Hmm... that's not good! Something about sizes... let's check the shape of $K$:"
   ]
  },
  {
   "cell_type": "code",
   "execution_count": 20,
   "id": "simple-emergency",
   "metadata": {},
   "outputs": [
    {
     "name": "stdout",
     "output_type": "stream",
     "text": [
      "(2,)\n"
     ]
    }
   ],
   "source": [
    "print(Kccf.shape)"
   ]
  },
  {
   "cell_type": "markdown",
   "id": "abstract-cowboy",
   "metadata": {},
   "source": [
    "Oh! The problem is that `Kccf`, as we've defined it, is a 1d array and not a 2d array like it should be. This is obvious in hindsight, because we took the difference of two 1d arrays \n",
    "to produce `Kccf`. This is easy to fix using [numpy.reshape](https://numpy.org/doc/stable/reference/generated/numpy.reshape.html):"
   ]
  },
  {
   "cell_type": "code",
   "execution_count": 21,
   "id": "protective-platform",
   "metadata": {},
   "outputs": [],
   "source": [
    "Kccf = (r - a).reshape([1, -1])"
   ]
  },
  {
   "cell_type": "markdown",
   "id": "black-journalist",
   "metadata": {},
   "source": [
    "The function `reshape` accepts one argument, a list of dimensions. The first element says the number of rows, in this case \"1\". The second element says the number of columns — the \"-1\" means \"however many it takes\" (sort of like a wild card).\n",
    "\n",
    "Here is the result:"
   ]
  },
  {
   "cell_type": "code",
   "execution_count": 22,
   "id": "integral-niger",
   "metadata": {},
   "outputs": [
    {
     "name": "stdout",
     "output_type": "stream",
     "text": [
      "[[ 8. 13.]]\n"
     ]
    }
   ],
   "source": [
    "print(Kccf)"
   ]
  },
  {
   "cell_type": "markdown",
   "id": "expected-banana",
   "metadata": {},
   "source": [
    "That looks better. Let's try it now:"
   ]
  },
  {
   "cell_type": "code",
   "execution_count": 23,
   "id": "everyday-enforcement",
   "metadata": {},
   "outputs": [
    {
     "name": "stdout",
     "output_type": "stream",
     "text": [
      "[-5.+0.j -2.+0.j]\n"
     ]
    }
   ],
   "source": [
    "print(linalg.eigvals(Accf - Bccf @ Kccf))"
   ]
  },
  {
   "cell_type": "markdown",
   "id": "exterior-elephant",
   "metadata": {},
   "source": [
    "Perfect! "
   ]
  },
  {
   "cell_type": "markdown",
   "id": "infectious-luxury",
   "metadata": {},
   "source": [
    "Do the following two things:\n",
    "* Complete HW Question 5 (\"Eigenvalue placement for a system in controllable canonical form\")\n",
    "* Fill in the part of `acker` that designs state feedback for the equivalent system"
   ]
  },
  {
   "cell_type": "markdown",
   "id": "typical-quality",
   "metadata": {},
   "source": [
    "### Find the coordinate transformation between equivalent systems\n",
    "\n",
    "As you know, if the coordinate transformation\n",
    "\n",
    "$$x = Vz$$\n",
    "\n",
    "is applied to the system\n",
    "\n",
    "$$\\dot{x} = Ax + Bu$$\n",
    "\n",
    "then the result is the equivalent system\n",
    "\n",
    "$$\\dot{z} = V^{-1}AV z + V^{-1}B u.$$\n",
    "\n",
    "Define the **controllability matrix** that is associated with $A$ and $B$ as\n",
    "\n",
    "$$W = \\begin{bmatrix} B & AB & A^2B & \\dotsm & A^{n-1}B \\end{bmatrix}.$$\n",
    "\n",
    "Since $A$ is $n \\times n$ and $B$ is $n \\times 1$, then $W$ is $n \\times n$. Similarly, we define the controllability matrix that is associated with $A_\\text{ccf}$ and $B_\\text{ccf}$ as\n",
    "\n",
    "$$W_\\text{ccf} = \\begin{bmatrix} B_\\text{ccf} & A_\\text{ccf}B_\\text{ccf} & A_\\text{ccf}^2B_\\text{ccf} & \\dotsm & A_\\text{ccf}^{n-1}B_\\text{ccf} \\end{bmatrix}.$$\n",
    "\n",
    "It is a fact that choosing $V$ so that\n",
    "\n",
    "$$V^{-1} = W_\\text{ccf} W^{-1}$$\n",
    "\n",
    "will establish an equivalence between\n",
    "\n",
    "$$\\dot{x} = Ax + Bu$$\n",
    "\n",
    "and\n",
    "\n",
    "$$\\dot{z} = A_\\text{ccf}z + B_\\text{ccf}u.$$\n",
    "\n",
    "That is to say, this choice of $V$ will result in\n",
    "\n",
    "$$V^{-1}AV = A_\\text{ccf} \\qquad\\text{and}\\qquad V^{-1}B = B_\\text{ccf}.$$\n",
    "\n",
    "Here is one way to find the controllability matrix $W$ that is associated with $A$ and $B$ in our example:"
   ]
  },
  {
   "cell_type": "code",
   "execution_count": 24,
   "id": "activated-sodium",
   "metadata": {},
   "outputs": [],
   "source": [
    "# Find the number of states\n",
    "n = A.shape[0]\n",
    "\n",
    "# Initialize W with its first column\n",
    "W = B\n",
    "\n",
    "# Create W one column at a time by iterating over i from 1 to n-1\n",
    "for i in range(1, n):\n",
    "    col = np.linalg.matrix_power(A, i) @ B\n",
    "    W = np.block([W, col])"
   ]
  },
  {
   "cell_type": "markdown",
   "id": "european-vertical",
   "metadata": {},
   "source": [
    "The idea is:\n",
    "\n",
    "* Initialize $W$ with its first column as $$\\begin{bmatrix} B \\end{bmatrix}$$\n",
    "* Iterate from $i=1$ to $i=n-1$, computing the column $$A^i B$$ using [numpy.linalg.matrix_power](https://numpy.org/doc/stable/reference/generated/numpy.linalg.matrix_power.html) — sadly, `scipy.linalg` does not have this function — and then appending this column to $W$ using `numpy.block`, which you've seen before\n",
    "\n",
    "Here is the result:"
   ]
  },
  {
   "cell_type": "code",
   "execution_count": 25,
   "id": "accepting-japanese",
   "metadata": {},
   "outputs": [
    {
     "data": {
      "text/plain": [
       "array([[1., 2.],\n",
       "       [3., 7.]])"
      ]
     },
     "execution_count": 25,
     "metadata": {},
     "output_type": "execute_result"
    }
   ],
   "source": [
    "W"
   ]
  },
  {
   "cell_type": "markdown",
   "id": "weird-prophet",
   "metadata": {},
   "source": [
    "We can do exactly the same thing to find $W_\\text{ccf}$:"
   ]
  },
  {
   "cell_type": "code",
   "execution_count": 26,
   "id": "collective-institution",
   "metadata": {},
   "outputs": [],
   "source": [
    "# Initialize Wccf with its first column\n",
    "Wccf = Bccf\n",
    "\n",
    "# Create W one column at a time by iterating over i from 1 to n-1\n",
    "for i in range(1, n):\n",
    "    col = np.linalg.matrix_power(Accf, i) @ Bccf\n",
    "    Wccf = np.block([Wccf, col])"
   ]
  },
  {
   "cell_type": "markdown",
   "id": "mature-feature",
   "metadata": {},
   "source": [
    "(This is, of course, begging for you to wrap it in a function.)\n",
    "\n",
    "Here is the result:"
   ]
  },
  {
   "cell_type": "code",
   "execution_count": 27,
   "id": "agreed-syria",
   "metadata": {},
   "outputs": [
    {
     "data": {
      "text/plain": [
       "array([[1., 1.],\n",
       "       [0., 1.]])"
      ]
     },
     "execution_count": 27,
     "metadata": {},
     "output_type": "execute_result"
    }
   ],
   "source": [
    "Wccf"
   ]
  },
  {
   "cell_type": "markdown",
   "id": "residential-mounting",
   "metadata": {},
   "source": [
    "And now, it is a simple matter to find $V^{-1}$:"
   ]
  },
  {
   "cell_type": "code",
   "execution_count": 28,
   "id": "rental-register",
   "metadata": {},
   "outputs": [],
   "source": [
    "inverse_of_V = Wccf @ linalg.inv(W)"
   ]
  },
  {
   "cell_type": "markdown",
   "id": "located-drain",
   "metadata": {},
   "source": [
    "We are finding $V^{-1}$ instead of $V$ because it is the inverse that we will need later.\n",
    "\n",
    "Here is the result:"
   ]
  },
  {
   "cell_type": "code",
   "execution_count": 29,
   "id": "mathematical-detection",
   "metadata": {},
   "outputs": [
    {
     "data": {
      "text/plain": [
       "array([[ 4., -1.],\n",
       "       [-3.,  1.]])"
      ]
     },
     "execution_count": 29,
     "metadata": {},
     "output_type": "execute_result"
    }
   ],
   "source": [
    "inverse_of_V"
   ]
  },
  {
   "cell_type": "markdown",
   "id": "greenhouse-force",
   "metadata": {},
   "source": [
    "Does it actually work? Remember, we want\n",
    "\n",
    "$$V^{-1}AV = A_\\text{ccf} \\qquad\\text{and}\\qquad V^{-1}B = B_\\text{ccf}.$$\n",
    "\n",
    "Let's check:"
   ]
  },
  {
   "cell_type": "code",
   "execution_count": 30,
   "id": "mathematical-academy",
   "metadata": {},
   "outputs": [
    {
     "name": "stdout",
     "output_type": "stream",
     "text": [
      "[[ 1.  3.]\n",
      " [ 1. -0.]]\n",
      "[[1. 3.]\n",
      " [1. 0.]]\n"
     ]
    }
   ],
   "source": [
    "print(inverse_of_V @ A @ linalg.inv(inverse_of_V))\n",
    "print(Accf)"
   ]
  },
  {
   "cell_type": "code",
   "execution_count": 31,
   "id": "infectious-perception",
   "metadata": {},
   "outputs": [
    {
     "name": "stdout",
     "output_type": "stream",
     "text": [
      "[[1.]\n",
      " [0.]]\n",
      "[[1.]\n",
      " [0.]]\n"
     ]
    }
   ],
   "source": [
    "print(inverse_of_V @ B)\n",
    "print(Bccf)"
   ]
  },
  {
   "cell_type": "markdown",
   "id": "fitted-means",
   "metadata": {},
   "source": [
    "Apparently it does!\n",
    "\n",
    "Do the following two things:\n",
    "* Complete HW Question 6 (\"Find the coordinate transformation between two equivalent systems\")\n",
    "* Fill in the part of `acker` that finds this coordinate transformation"
   ]
  },
  {
   "cell_type": "markdown",
   "id": "verified-herald",
   "metadata": {},
   "source": [
    "### Find equivalent state feedback\n",
    "\n",
    "If\n",
    "\n",
    "$$x = Vz$$\n",
    "\n",
    "then\n",
    "\n",
    "$$u = -K_\\text{ccf} z = -K_\\text{ccf}\\left(V^{-1} x\\right) = -\\left(K_\\text{ccf}V^{-1}\\right)x.$$\n",
    "\n",
    "For what gain matrix $K$ would\n",
    "\n",
    "$$u = -Kx$$\n",
    "\n",
    "be equivalent to this choice of input? Obviously this one (by equating coefficients):\n",
    "\n",
    "$$K = K_\\text{ccf} V^{-1}$$\n",
    "\n",
    "Let's find it, for our example:"
   ]
  },
  {
   "cell_type": "code",
   "execution_count": 32,
   "id": "particular-works",
   "metadata": {},
   "outputs": [],
   "source": [
    "K = Kccf @ inverse_of_V"
   ]
  },
  {
   "cell_type": "markdown",
   "id": "physical-charlotte",
   "metadata": {},
   "source": [
    "Here is the result:"
   ]
  },
  {
   "cell_type": "code",
   "execution_count": 33,
   "id": "absolute-census",
   "metadata": {},
   "outputs": [
    {
     "data": {
      "text/plain": [
       "array([[-7.,  5.]])"
      ]
     },
     "execution_count": 33,
     "metadata": {},
     "output_type": "execute_result"
    }
   ],
   "source": [
    "K"
   ]
  },
  {
   "cell_type": "markdown",
   "id": "continued-nothing",
   "metadata": {},
   "source": [
    "Does it work? In particular, does it put the eigenvalues of $A - BK$ at $-2$ and $-5$, like we wanted? Let's check:"
   ]
  },
  {
   "cell_type": "code",
   "execution_count": 34,
   "id": "official-fields",
   "metadata": {},
   "outputs": [
    {
     "name": "stdout",
     "output_type": "stream",
     "text": [
      "[-2.+0.j -5.+0.j]\n"
     ]
    }
   ],
   "source": [
    "print(linalg.eigvals(A - B @ K))"
   ]
  },
  {
   "cell_type": "markdown",
   "id": "accredited-teens",
   "metadata": {},
   "source": [
    "Yep! How lovely.\n",
    "\n",
    "Do the following two things:\n",
    "* Complete HW Question 7 (\"Find equivalent state feedback\")\n",
    "* Fill in the part of `acker` that computes (and returns) `K`."
   ]
  },
  {
   "cell_type": "markdown",
   "id": "coupled-denmark",
   "metadata": {},
   "source": [
    "### Finish up and test"
   ]
  },
  {
   "cell_type": "markdown",
   "id": "saving-syndrome",
   "metadata": {},
   "source": [
    "Your implementation of `acker` is now complete. Test it:"
   ]
  },
  {
   "cell_type": "code",
   "execution_count": 36,
   "id": "touched-korea",
   "metadata": {},
   "outputs": [
    {
     "name": "stdout",
     "output_type": "stream",
     "text": [
      "[[-7.  5.]]\n",
      "[-2.+0.j -5.+0.j]\n"
     ]
    }
   ],
   "source": [
    "K = acker(A, B, [-2., -5.])\n",
    "print(K)\n",
    "print(linalg.eigvals(A - B @ K))"
   ]
  },
  {
   "cell_type": "markdown",
   "id": "urban-yemen",
   "metadata": {},
   "source": [
    "Does it work for complex eigenvalues?"
   ]
  },
  {
   "cell_type": "code",
   "execution_count": 37,
   "id": "completed-glasgow",
   "metadata": {},
   "outputs": [
    {
     "name": "stdout",
     "output_type": "stream",
     "text": [
      "[[-340.  117.]]\n",
      "[-5.+10.j -5.-10.j]\n"
     ]
    }
   ],
   "source": [
    "K = acker(A, B, [-5. + 10.j, -5. - 10.j])\n",
    "print(K)\n",
    "print(linalg.eigvals(A - B @ K))"
   ]
  },
  {
   "cell_type": "markdown",
   "id": "opening-charge",
   "metadata": {},
   "source": [
    "What about for eigenvalues at the same location?"
   ]
  },
  {
   "cell_type": "code",
   "execution_count": 38,
   "id": "chicken-blanket",
   "metadata": {},
   "outputs": [
    {
     "name": "stdout",
     "output_type": "stream",
     "text": [
      "[[-8.  5.]]\n",
      "[-3.+0.j -3.+0.j]\n"
     ]
    }
   ],
   "source": [
    "K = acker(A, B, [-3., -3.])\n",
    "print(K)\n",
    "print(linalg.eigvals(A - B @ K))"
   ]
  },
  {
   "cell_type": "markdown",
   "id": "actual-washer",
   "metadata": {},
   "source": [
    "Wow, not even `signal.place_poles` does that! Observe:"
   ]
  },
  {
   "cell_type": "code",
   "execution_count": 39,
   "id": "ceramic-millennium",
   "metadata": {},
   "outputs": [
    {
     "ename": "ValueError",
     "evalue": "at least one of the requested pole is repeated more than rank(B) times",
     "output_type": "error",
     "traceback": [
      "\u001b[0;31m---------------------------------------------------------------------------\u001b[0m",
      "\u001b[0;31mValueError\u001b[0m                                Traceback (most recent call last)",
      "\u001b[0;32m<ipython-input-39-a9de0578a6fa>\u001b[0m in \u001b[0;36m<module>\u001b[0;34m\u001b[0m\n\u001b[0;32m----> 1\u001b[0;31m \u001b[0mfbk\u001b[0m \u001b[0;34m=\u001b[0m \u001b[0msignal\u001b[0m\u001b[0;34m.\u001b[0m\u001b[0mplace_poles\u001b[0m\u001b[0;34m(\u001b[0m\u001b[0mA\u001b[0m\u001b[0;34m,\u001b[0m \u001b[0mB\u001b[0m\u001b[0;34m,\u001b[0m \u001b[0;34m[\u001b[0m\u001b[0;34m-\u001b[0m\u001b[0;36m3.\u001b[0m\u001b[0;34m,\u001b[0m \u001b[0;34m-\u001b[0m\u001b[0;36m3.\u001b[0m\u001b[0;34m]\u001b[0m\u001b[0;34m)\u001b[0m\u001b[0;34m\u001b[0m\u001b[0;34m\u001b[0m\u001b[0m\n\u001b[0m",
      "\u001b[0;32m/opt/conda/lib/python3.8/site-packages/scipy/signal/ltisys.py\u001b[0m in \u001b[0;36mplace_poles\u001b[0;34m(A, B, poles, method, rtol, maxiter)\u001b[0m\n\u001b[1;32m   3211\u001b[0m     \"\"\"\n\u001b[1;32m   3212\u001b[0m     \u001b[0;31m# Move away all the inputs checking, it only adds noise to the code\u001b[0m\u001b[0;34m\u001b[0m\u001b[0;34m\u001b[0m\u001b[0;34m\u001b[0m\u001b[0m\n\u001b[0;32m-> 3213\u001b[0;31m     \u001b[0mupdate_loop\u001b[0m\u001b[0;34m,\u001b[0m \u001b[0mpoles\u001b[0m \u001b[0;34m=\u001b[0m \u001b[0m_valid_inputs\u001b[0m\u001b[0;34m(\u001b[0m\u001b[0mA\u001b[0m\u001b[0;34m,\u001b[0m \u001b[0mB\u001b[0m\u001b[0;34m,\u001b[0m \u001b[0mpoles\u001b[0m\u001b[0;34m,\u001b[0m \u001b[0mmethod\u001b[0m\u001b[0;34m,\u001b[0m \u001b[0mrtol\u001b[0m\u001b[0;34m,\u001b[0m \u001b[0mmaxiter\u001b[0m\u001b[0;34m)\u001b[0m\u001b[0;34m\u001b[0m\u001b[0;34m\u001b[0m\u001b[0m\n\u001b[0m\u001b[1;32m   3214\u001b[0m \u001b[0;34m\u001b[0m\u001b[0m\n\u001b[1;32m   3215\u001b[0m     \u001b[0;31m# The current value of the relative tolerance we achieved\u001b[0m\u001b[0;34m\u001b[0m\u001b[0;34m\u001b[0m\u001b[0;34m\u001b[0m\u001b[0m\n",
      "\u001b[0;32m/opt/conda/lib/python3.8/site-packages/scipy/signal/ltisys.py\u001b[0m in \u001b[0;36m_valid_inputs\u001b[0;34m(A, B, poles, method, rtol, maxiter)\u001b[0m\n\u001b[1;32m   2676\u001b[0m     \u001b[0;32mfor\u001b[0m \u001b[0mp\u001b[0m \u001b[0;32min\u001b[0m \u001b[0mpoles\u001b[0m\u001b[0;34m:\u001b[0m\u001b[0;34m\u001b[0m\u001b[0;34m\u001b[0m\u001b[0m\n\u001b[1;32m   2677\u001b[0m         \u001b[0;32mif\u001b[0m \u001b[0msum\u001b[0m\u001b[0;34m(\u001b[0m\u001b[0mp\u001b[0m \u001b[0;34m==\u001b[0m \u001b[0mpoles\u001b[0m\u001b[0;34m)\u001b[0m \u001b[0;34m>\u001b[0m \u001b[0mr\u001b[0m\u001b[0;34m:\u001b[0m\u001b[0;34m\u001b[0m\u001b[0;34m\u001b[0m\u001b[0m\n\u001b[0;32m-> 2678\u001b[0;31m             raise ValueError(\"at least one of the requested pole is repeated \"\n\u001b[0m\u001b[1;32m   2679\u001b[0m                              \"more than rank(B) times\")\n\u001b[1;32m   2680\u001b[0m     \u001b[0;31m# Choose update method\u001b[0m\u001b[0;34m\u001b[0m\u001b[0;34m\u001b[0m\u001b[0;34m\u001b[0m\u001b[0m\n",
      "\u001b[0;31mValueError\u001b[0m: at least one of the requested pole is repeated more than rank(B) times"
     ]
    }
   ],
   "source": [
    "fbk = signal.place_poles(A, B, [-3., -3.])"
   ]
  },
  {
   "cell_type": "markdown",
   "id": "advisory-voltage",
   "metadata": {},
   "source": [
    "Note, however, that there can be some numerical error when you ask for eigenvalues at the same location:"
   ]
  },
  {
   "cell_type": "code",
   "execution_count": 40,
   "id": "duplicate-anthony",
   "metadata": {},
   "outputs": [
    {
     "name": "stdout",
     "output_type": "stream",
     "text": [
      "[[-0.  1.]]\n",
      "[-1.+0.00000005j -1.-0.00000005j]\n"
     ]
    }
   ],
   "source": [
    "K = acker(A, B, [-1., -1.])\n",
    "print(K)\n",
    "print(linalg.eigvals(A - B @ K))"
   ]
  },
  {
   "cell_type": "markdown",
   "id": "younger-ballot",
   "metadata": {},
   "source": [
    "This is a clue about why `place_poles` does not allow you to ask for this.\n",
    "\n",
    "In any case, if you are getting the results you expect from `acker`, then you can do two last things:\n",
    "\n",
    "* Complete HW Question 8 (\"All the steps of Ackermann's method for eigenvalue placement\")\n",
    "* \"Save and Grade\" this workspace problem (HW Question 1, \"Workspace: Ackermann's Method\")\n",
    "\n",
    "You can also be happy and self-satisfied."
   ]
  },
  {
   "cell_type": "code",
   "execution_count": null,
   "id": "surface-uncertainty",
   "metadata": {},
   "outputs": [],
   "source": []
  }
 ],
 "metadata": {
  "kernelspec": {
   "display_name": "Python 3 (ipykernel)",
   "language": "python",
   "name": "python3"
  },
  "language_info": {
   "codemirror_mode": {
    "name": "ipython",
    "version": 3
   },
   "file_extension": ".py",
   "mimetype": "text/x-python",
   "name": "python",
   "nbconvert_exporter": "python",
   "pygments_lexer": "ipython3",
   "version": "3.11.0"
  }
 },
 "nbformat": 4,
 "nbformat_minor": 5
}
